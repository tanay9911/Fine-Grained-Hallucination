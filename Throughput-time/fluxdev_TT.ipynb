{
  "nbformat": 4,
  "nbformat_minor": 0,
  "metadata": {
    "colab": {
      "provenance": [],
      "gpuType": "T4"
    },
    "kernelspec": {
      "name": "python3",
      "display_name": "Python 3"
    },
    "language_info": {
      "name": "python"
    },
    "accelerator": "GPU"
  },
  "cells": [
    {
      "cell_type": "code",
      "source": [
        "!pip install -U diffusers transformers accelerate huggingface_hub"
      ],
      "metadata": {
        "id": "LGx1_94W3MOR"
      },
      "execution_count": null,
      "outputs": []
    },
    {
      "cell_type": "code",
      "execution_count": 5,
      "metadata": {
        "colab": {
          "base_uri": "https://localhost:8080/"
        },
        "id": "PTvvf_QS3G9N",
        "outputId": "7458457d-317b-4ab0-d1b8-75bb5dbdb838"
      },
      "outputs": [
        {
          "output_type": "stream",
          "name": "stdout",
          "text": [
            "Generating 1/5: A futuristic cityscape at sunset with flying cars\n",
            "    Image generated. Size: (512, 512)\n",
            "Generating 2/5: A cat wearing sunglasses sitting on a beach\n",
            "    Image generated. Size: (512, 512)\n",
            "Generating 3/5: A fantasy castle floating in the sky\n",
            "    Image generated. Size: (512, 512)\n",
            "Generating 4/5: An astronaut riding a horse on Mars\n",
            "    Image generated. Size: (512, 512)\n",
            "Generating 5/5: A bowl of ramen with glowing noodles in a cyberpunk setting\n",
            "    Image generated. Size: (512, 512)\n",
            "\n",
            "Total time for 5 successful generations: 49.61 seconds\n",
            "Throughput: 0.10 images per second\n"
          ]
        }
      ],
      "source": [
        "import requests\n",
        "import time\n",
        "from PIL import Image\n",
        "import io\n",
        "\n",
        "# --- Configuration ---\n",
        "API_URL = \"https://api-inference.huggingface.co/models/black-forest-labs/FLUX.1-dev\"\n",
        "API_TOKEN = \"\"  # Replace with your Hugging Face token\n",
        "headers = {\"Authorization\": f\"Bearer {API_TOKEN}\"}\n",
        "\n",
        "captions = [\n",
        "    \"A futuristic cityscape at sunset with flying cars\",\n",
        "    \"A cat wearing sunglasses sitting on a beach\",\n",
        "    \"A fantasy castle floating in the sky\",\n",
        "    \"An astronaut riding a horse on Mars\",\n",
        "    \"A bowl of ramen with glowing noodles in a cyberpunk setting\"\n",
        "]\n",
        "\n",
        "def query_flux_api(prompt, retries=3, delay=5):\n",
        "    \"\"\"Query HF API with basic retry logic\"\"\"\n",
        "    payload = {\n",
        "        \"inputs\": prompt,\n",
        "        \"parameters\": {\n",
        "            \"height\": 512,\n",
        "            \"width\": 512,\n",
        "            \"guidance_scale\": 3.5,\n",
        "            \"num_inference_steps\": 20\n",
        "        }\n",
        "    }\n",
        "\n",
        "    for attempt in range(retries):\n",
        "        response = requests.post(API_URL, headers=headers, json=payload)\n",
        "\n",
        "        if response.status_code == 200:\n",
        "            return response.content\n",
        "\n",
        "        print(f\"   Attempt {attempt + 1} failed (HTTP {response.status_code})\")\n",
        "        time.sleep(delay)\n",
        "\n",
        "    return None\n",
        "\n",
        "# --- Throughput Time Calculation ---\n",
        "successful = 0\n",
        "start_time = time.time()\n",
        "\n",
        "for i, caption in enumerate(captions):\n",
        "    print(f\"Generating {i+1}/{len(captions)}: {caption}\")\n",
        "    image_data = query_flux_api(caption)\n",
        "\n",
        "    if image_data:\n",
        "        try:\n",
        "            image = Image.open(io.BytesIO(image_data))\n",
        "            image.verify()  # Confirm it's a valid image\n",
        "            print(f\"    Image generated. Size: {image.size}\")\n",
        "            successful += 1\n",
        "        except:\n",
        "            print(\"    Invalid image data received\")\n",
        "    else:\n",
        "        print(\"    Failed to generate image after retries\")\n",
        "\n",
        "end_time = time.time()\n",
        "\n",
        "# --- Final Throughput Metrics ---\n",
        "total_time = end_time - start_time\n",
        "\n",
        "if successful > 0:\n",
        "    throughput = successful / total_time\n",
        "    print(f\"\\nTotal time for {successful} successful generations: {total_time:.2f} seconds\")\n",
        "    print(f\"Throughput: {throughput:.2f} images per second\")\n",
        "else:\n",
        "    print(\"\\n No successful generations. Throughput cannot be calculated.\")\n"
      ]
    }
  ]
}