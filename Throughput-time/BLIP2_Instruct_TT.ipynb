{
  "nbformat": 4,
  "nbformat_minor": 0,
  "metadata": {
    "colab": {
      "provenance": [],
      "gpuType": "T4"
    },
    "kernelspec": {
      "name": "python3",
      "display_name": "Python 3"
    },
    "language_info": {
      "name": "python"
    },
    "accelerator": "GPU"
  },
  "cells": [
    {
      "cell_type": "code",
      "source": [
        "!pip install transformers accelerate bitsandbytes torch pillow tqdm"
      ],
      "metadata": {
        "colab": {
          "base_uri": "https://localhost:8080/"
        },
        "id": "R8T7TYLhAuEE",
        "outputId": "048efd9e-365d-473e-f334-519a0121cb73"
      },
      "execution_count": 1,
      "outputs": [
        {
          "output_type": "stream",
          "name": "stdout",
          "text": [
            "Installing collected packages: bitsandbytes\n",
            "Successfully installed bitsandbytes-0.47.0\n"
          ]
        }
      ]
    },
    {
      "cell_type": "code",
      "execution_count": null,
      "metadata": {
        "id": "5rYH0nCj-LI3"
      },
      "outputs": [],
      "source": [
        "import time\n",
        "import json\n",
        "from PIL import Image\n",
        "from transformers import BitsAndBytesConfig, InstructBlipProcessor, InstructBlipForConditionalGeneration\n",
        "\n",
        "# === Load BLIP-2 Instruct Model ===\n",
        "bnb_config = BitsAndBytesConfig(load_in_8bit=True)\n",
        "blip_processor = InstructBlipProcessor.from_pretrained(\"Salesforce/instructblip-vicuna-7b\")\n",
        "blip_model = InstructBlipForConditionalGeneration.from_pretrained(\n",
        "    \"Salesforce/instructblip-vicuna-7b\",\n",
        "    device_map=\"auto\",\n",
        "    quantization_config=bnb_config\n",
        ")\n",
        "\n",
        "# === Prompt ===\n",
        "prompt = (\n",
        "    \"Describe the image with a focus on the intricate details of the object, \"\n",
        "    \"including their color, shape, and number. Include any physical aspects that \"\n",
        "    \"appear unusual or incorrect according to general knowledge.\"\n",
        ")\n",
        "\n",
        "# === Function to get caption ===\n",
        "def get_blip2_caption(img_path):\n",
        "    img = Image.open(img_path).convert(\"RGB\")\n",
        "    inputs = blip_processor(img, prompt, return_tensors=\"pt\").to(blip_model.device)\n",
        "    out = blip_model.generate(**inputs, max_length=100, do_sample=False)\n",
        "    caption = blip_processor.decode(out[0], skip_special_tokens=True)\n",
        "    if caption.startswith(prompt):\n",
        "        caption = caption[len(prompt):].strip()\n",
        "    return caption\n",
        "\n",
        "# === Define 5 image paths manually ===\n",
        "image_paths = [\n",
        "    \"/content/drive/MyDrive/Img_folder/1.jpg\",\n",
        "    \"/content/drive/MyDrive/Img_folder/2.jpg\",\n",
        "    \"/content/drive/MyDrive/Img_folder/3.jpg\",\n",
        "    \"/content/drive/MyDrive/Img_folder/4.jpg\",\n",
        "    \"/content/drive/MyDrive/Img_folder/5.jpg\"\n",
        "\n",
        "]\n",
        "\n",
        "# === Throughput Test ===\n",
        "start_time = time.time()\n",
        "successful = 0\n",
        "\n",
        "for i, img_path in enumerate(image_paths):\n",
        "    print(f\"Processing {i+1}/5: {img_path}\")\n",
        "    try:\n",
        "        caption = get_blip2_caption(img_path)\n",
        "        print(f\"  Caption: {caption}\")\n",
        "        successful += 1\n",
        "    except Exception as e:\n",
        "        print(f\"  Failed: {e}\")\n",
        "\n",
        "end_time = time.time()\n",
        "total_time = end_time - start_time\n",
        "\n",
        "# === Results ===\n",
        "print(f\"\\n--- THROUGHPUT REPORT ---\")\n",
        "print(f\"Total time for {successful} images: {total_time:.2f} seconds\")\n",
        "if successful > 0:\n",
        "    print(f\"Throughput: {successful / total_time:.2f} images per second\")\n",
        "else:\n",
        "    print(\"No images were successfully captioned.\")\n"
      ]
    }
  ]
}