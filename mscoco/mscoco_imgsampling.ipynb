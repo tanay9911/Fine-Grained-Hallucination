{
  "nbformat": 4,
  "nbformat_minor": 0,
  "metadata": {
    "colab": {
      "provenance": []
    },
    "kernelspec": {
      "name": "python3",
      "display_name": "Python 3"
    },
    "language_info": {
      "name": "python"
    }
  },
  "cells": [
    {
      "cell_type": "code",
      "source": [
        "# Installing required libraries for COCO dataset processing\n",
        "# Dataset source: https://www.kaggle.com/datasets/mnassrib/ms-coco?resource=download\n",
        "!pip install pycocotools matplotlib Pillow\n",
        "\n",
        "# Importing essential libraries\n",
        "from pycocotools.coco import COCO  # For accessing COCO dataset annotations\n",
        "import random  # For random image sampling\n",
        "import pandas as pd  # For data storage and CSV export\n",
        "\n",
        "# Setting dataset file paths\n",
        "CAPTION_ANN_PATH = '/content/drive/MyDrive/MSCOCO/annotations_trainval2014/annotations/captions_train2014.json'\n",
        "IMG_DIR = '/content/drive/MyDrive/MSCOCO/train2014/train2014'\n",
        "\n",
        "# Initializing COCO API for captions only\n",
        "print(\"Initializing COCO API for captions...\")\n",
        "coco = COCO(CAPTION_ANN_PATH)\n",
        "\n",
        "# Selecting random 200 images from the dataset\n",
        "print(\"Sampling 200 random image IDs...\")\n",
        "all_img_ids = coco.getImgIds()\n",
        "sampled_ids = random.sample(all_img_ids, 200)\n",
        "\n",
        "# Defining text cleaning utility function\n",
        "def clean_caption(text):\n",
        "    \"\"\"Removing unwanted characters and normalizing caption text\"\"\"\n",
        "    return text.replace('\\n', ' ').replace('\\r', ' ').strip()\n",
        "\n",
        "# Pre-loading all caption annotations in batch for faster processing\n",
        "print(\"Loading caption annotations in batch...\")\n",
        "batch_annotations = coco.loadAnns(coco.getAnnIds(imgIds=sampled_ids))\n",
        "\n",
        "# Creating fast lookup dictionary for captions\n",
        "print(\"Building caption lookup structure...\")\n",
        "caption_dict = {}\n",
        "for ann in batch_annotations:\n",
        "    if ann['image_id'] not in caption_dict:\n",
        "        caption_dict[ann['image_id']] = clean_caption(ann['caption'])\n",
        "\n",
        "# Processing sampled images and building dataset\n",
        "print(\"Compiling final dataset...\")\n",
        "dataset = []\n",
        "for img_id in sampled_ids:\n",
        "    # Retrieving pre-processed caption\n",
        "    caption = caption_dict.get(img_id, 'No caption available')\n",
        "\n",
        "    # Storing only image_id and caption\n",
        "    dataset.append({\n",
        "        'image_id': img_id,\n",
        "        'caption': caption\n",
        "    })\n",
        "\n",
        "# Creating and saving the final dataset\n",
        "print(\"Saving results to CSV...\")\n",
        "result_df = pd.DataFrame(dataset)\n",
        "result_df.to_csv('mscoco_captions.csv', index=False, encoding='utf-8')\n",
        "\n",
        "print(\"Operation completed successfully! Saved captions for 200 images.\")"
      ],
      "metadata": {
        "colab": {
          "base_uri": "https://localhost:8080/"
        },
        "id": "dgo0uNr_PwmU",
        "outputId": "a1b16f3e-8122-4842-df55-d3151e919143"
      },
      "execution_count": 4,
      "outputs": [
        {
          "output_type": "stream",
          "name": "stdout",
          "text": [
            "Requirement already satisfied: pycocotools in /usr/local/lib/python3.11/dist-packages (2.0.10)\n",
            "Requirement already satisfied: matplotlib in /usr/local/lib/python3.11/dist-packages (3.10.0)\n",
            "Requirement already satisfied: Pillow in /usr/local/lib/python3.11/dist-packages (11.3.0)\n",
            "Requirement already satisfied: numpy in /usr/local/lib/python3.11/dist-packages (from pycocotools) (2.0.2)\n",
            "Requirement already satisfied: contourpy>=1.0.1 in /usr/local/lib/python3.11/dist-packages (from matplotlib) (1.3.3)\n",
            "Requirement already satisfied: cycler>=0.10 in /usr/local/lib/python3.11/dist-packages (from matplotlib) (0.12.1)\n",
            "Requirement already satisfied: fonttools>=4.22.0 in /usr/local/lib/python3.11/dist-packages (from matplotlib) (4.59.0)\n",
            "Requirement already satisfied: kiwisolver>=1.3.1 in /usr/local/lib/python3.11/dist-packages (from matplotlib) (1.4.9)\n",
            "Requirement already satisfied: packaging>=20.0 in /usr/local/lib/python3.11/dist-packages (from matplotlib) (25.0)\n",
            "Requirement already satisfied: pyparsing>=2.3.1 in /usr/local/lib/python3.11/dist-packages (from matplotlib) (3.2.3)\n",
            "Requirement already satisfied: python-dateutil>=2.7 in /usr/local/lib/python3.11/dist-packages (from matplotlib) (2.9.0.post0)\n",
            "Requirement already satisfied: six>=1.5 in /usr/local/lib/python3.11/dist-packages (from python-dateutil>=2.7->matplotlib) (1.17.0)\n",
            "Initializing COCO API for captions...\n",
            "loading annotations into memory...\n",
            "Done (t=1.75s)\n",
            "creating index...\n",
            "index created!\n",
            "Sampling 200 random image IDs...\n",
            "Loading caption annotations in batch...\n",
            "Building caption lookup structure...\n",
            "Compiling final dataset...\n",
            "Saving results to CSV...\n",
            "Operation completed successfully! Saved captions for 200 images.\n"
          ]
        }
      ]
    }
  ]
}