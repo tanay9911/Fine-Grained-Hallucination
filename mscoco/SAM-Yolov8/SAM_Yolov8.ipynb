{
  "nbformat": 4,
  "nbformat_minor": 0,
  "metadata": {
    "colab": {
      "provenance": [],
      "gpuType": "T4"
    },
    "kernelspec": {
      "name": "python3",
      "display_name": "Python 3"
    },
    "language_info": {
      "name": "python"
    },
    "accelerator": "GPU"
  },
  "cells": [
    {
      "cell_type": "code",
      "source": [
        "!pip install git+https://github.com/facebookresearch/segment-anything.git\n"
      ],
      "metadata": {
        "colab": {
          "base_uri": "https://localhost:8080/"
        },
        "id": "POA0Xf2p2T55",
        "outputId": "3a022013-700d-41e1-e00c-181419c2b3e4"
      },
      "execution_count": 1,
      "outputs": [
        {
          "output_type": "stream",
          "name": "stdout",
          "text": [
            "Collecting git+https://github.com/facebookresearch/segment-anything.git\n",
            "  Cloning https://github.com/facebookresearch/segment-anything.git to /tmp/pip-req-build-1hmx1425\n",
            "  Running command git clone --filter=blob:none --quiet https://github.com/facebookresearch/segment-anything.git /tmp/pip-req-build-1hmx1425\n",
            "  Resolved https://github.com/facebookresearch/segment-anything.git to commit dca509fe793f601edb92606367a655c15ac00fdf\n",
            "  Preparing metadata (setup.py) ... \u001b[?25l\u001b[?25hdone\n",
            "Building wheels for collected packages: segment_anything\n",
            "  Building wheel for segment_anything (setup.py) ... \u001b[?25l\u001b[?25hdone\n",
            "  Created wheel for segment_anything: filename=segment_anything-1.0-py3-none-any.whl size=36592 sha256=6e2fd70b1c8ab6fc94205364a7727f301dd1b046d225d23b4a179a38b2a61ae5\n",
            "  Stored in directory: /tmp/pip-ephem-wheel-cache-vzkzcatd/wheels/29/82/ff/04e2be9805a1cb48bec0b85b5a6da6b63f647645750a0e42d4\n",
            "Successfully built segment_anything\n",
            "Installing collected packages: segment_anything\n",
            "Successfully installed segment_anything-1.0\n"
          ]
        }
      ]
    },
    {
      "cell_type": "code",
      "source": [
        "!wget https://dl.fbaipublicfiles.com/segment_anything/sam_vit_h_4b8939.pth -O sam_vit_h.pth\n"
      ],
      "metadata": {
        "colab": {
          "base_uri": "https://localhost:8080/"
        },
        "id": "x-D7ZSoT2tDZ",
        "outputId": "bd39b106-8aad-48e8-afa7-6b0d7eff9a23"
      },
      "execution_count": 2,
      "outputs": [
        {
          "output_type": "stream",
          "name": "stdout",
          "text": [
            "--2025-08-27 10:21:54--  https://dl.fbaipublicfiles.com/segment_anything/sam_vit_h_4b8939.pth\n",
            "Resolving dl.fbaipublicfiles.com (dl.fbaipublicfiles.com)... 3.163.189.14, 3.163.189.108, 3.163.189.51, ...\n",
            "Connecting to dl.fbaipublicfiles.com (dl.fbaipublicfiles.com)|3.163.189.14|:443... connected.\n",
            "HTTP request sent, awaiting response... 200 OK\n",
            "Length: 2564550879 (2.4G) [binary/octet-stream]\n",
            "Saving to: ‘sam_vit_h.pth’\n",
            "\n",
            "sam_vit_h.pth       100%[===================>]   2.39G   130MB/s    in 15s     \n",
            "\n",
            "2025-08-27 10:22:09 (163 MB/s) - ‘sam_vit_h.pth’ saved [2564550879/2564550879]\n",
            "\n"
          ]
        }
      ]
    },
    {
      "cell_type": "code",
      "execution_count": 3,
      "metadata": {
        "id": "nc7-rPzrxgwB"
      },
      "outputs": [],
      "source": [
        "import os\n",
        "import json\n",
        "import numpy as np\n",
        "import cv2\n",
        "from segment_anything import sam_model_registry, SamPredictor\n",
        "import matplotlib.pyplot as plt\n",
        "\n",
        "# ----------------------\n",
        "# Load SAM\n",
        "# ----------------------\n",
        "sam_checkpoint = \"sam_vit_h.pth\"   # or vit_b, vit_l depending on speed\n",
        "model_type = \"vit_h\"\n",
        "sam = sam_model_registry[model_type](checkpoint=sam_checkpoint)\n",
        "sam.to(device=\"cuda\")  # move SAM model to GPU\n",
        "predictor = SamPredictor(sam)\n",
        "\n",
        "# ----------------------\n",
        "# Load YOLOv8 JSON detections\n",
        "# ----------------------\n",
        "with open(\"Flux-Dev_yolov8_detections.json\", \"r\") as f:\n",
        "    detections = json.load(f)\n",
        "\n",
        "# ----------------------\n",
        "# Base folder for images\n",
        "# ----------------------\n",
        "base_image_path = \"/content/drive/MyDrive/Flux-Dev\"\n",
        "\n",
        "final_results = []  # to store SAM-refined results\n",
        "\n",
        "for item in detections:\n",
        "    # Prepend base path\n",
        "    image_path = os.path.join(base_image_path, item[\"image\"])\n",
        "    image = cv2.imread(image_path)\n",
        "\n",
        "    if image is None:\n",
        "        print(f\" Image not found: {image_path}\")\n",
        "        continue\n",
        "\n",
        "    predictor.set_image(image)\n",
        "\n",
        "    refined_boxes = []\n",
        "    for det in item[\"boxes\"]:\n",
        "        box = det[\"box\"]  # [x1, y1, x2, y2]\n",
        "        score = det[\"score\"]\n",
        "        label = det[\"label\"]\n",
        "\n",
        "        # Convert box to NumPy array (required by SAM)\n",
        "        input_box = np.array(box)\n",
        "\n",
        "        # Get SAM mask\n",
        "        masks, scores, _ = predictor.predict(\n",
        "            box=input_box[None, :],  # shape (1, 4)\n",
        "            multimask_output=False\n",
        "        )\n",
        "\n",
        "        refined_boxes.append({\n",
        "            \"box\": box,\n",
        "            \"score\": score,\n",
        "            \"label\": label,\n",
        "            \"mask\": masks[0].astype(\"uint8\").tolist()  # convert numpy -> list for JSON\n",
        "        })\n",
        "\n",
        "    final_results.append({\n",
        "        \"image\": item[\"image\"],  # keep original filename in JSON\n",
        "        \"objects\": refined_boxes\n",
        "    })\n",
        "\n",
        "\n",
        "\n",
        "# ----------------------\n",
        "# Save final JSON with masks\n",
        "# ----------------------\n",
        "with open(\"Flux-Dev_yolov8_sam_refined.json\", \"w\") as f:\n",
        "    json.dump(final_results, f)\n"
      ]
    }
  ]
}