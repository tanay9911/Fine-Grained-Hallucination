{
  "nbformat": 4,
  "nbformat_minor": 0,
  "metadata": {
    "colab": {
      "provenance": [],
      "gpuType": "T4"
    },
    "kernelspec": {
      "name": "python3",
      "display_name": "Python 3"
    },
    "language_info": {
      "name": "python"
    },
    "accelerator": "GPU"
  },
  "cells": [
    {
      "cell_type": "code",
      "source": [
        "!wget https://dl.fbaipublicfiles.com/segment_anything/sam_vit_h_4b8939.pth -O sam_vit_h.pth\n",
        "!pip install git+https://github.com/facebookresearch/segment-anything.git"
      ],
      "metadata": {
        "colab": {
          "base_uri": "https://localhost:8080/"
        },
        "id": "QDYwjK083cG_",
        "outputId": "9ed4ddb0-e6fa-4bf7-9091-9b8d5008936e"
      },
      "execution_count": 1,
      "outputs": [
        {
          "output_type": "stream",
          "name": "stdout",
          "text": [
            "--2025-08-27 14:11:42--  https://dl.fbaipublicfiles.com/segment_anything/sam_vit_h_4b8939.pth\n",
            "Resolving dl.fbaipublicfiles.com (dl.fbaipublicfiles.com)... 3.163.189.108, 3.163.189.14, 3.163.189.51, ...\n",
            "Connecting to dl.fbaipublicfiles.com (dl.fbaipublicfiles.com)|3.163.189.108|:443... connected.\n",
            "HTTP request sent, awaiting response... 200 OK\n",
            "Length: 2564550879 (2.4G) [binary/octet-stream]\n",
            "Saving to: ‘sam_vit_h.pth’\n",
            "\n",
            "sam_vit_h.pth       100%[===================>]   2.39G   159MB/s    in 14s     \n",
            "\n",
            "2025-08-27 14:11:57 (170 MB/s) - ‘sam_vit_h.pth’ saved [2564550879/2564550879]\n",
            "\n",
            "Collecting git+https://github.com/facebookresearch/segment-anything.git\n",
            "  Cloning https://github.com/facebookresearch/segment-anything.git to /tmp/pip-req-build-mvw5e2m2\n",
            "  Running command git clone --filter=blob:none --quiet https://github.com/facebookresearch/segment-anything.git /tmp/pip-req-build-mvw5e2m2\n",
            "  Resolved https://github.com/facebookresearch/segment-anything.git to commit dca509fe793f601edb92606367a655c15ac00fdf\n",
            "  Preparing metadata (setup.py) ... \u001b[?25l\u001b[?25hdone\n",
            "Building wheels for collected packages: segment_anything\n",
            "  Building wheel for segment_anything (setup.py) ... \u001b[?25l\u001b[?25hdone\n",
            "  Created wheel for segment_anything: filename=segment_anything-1.0-py3-none-any.whl size=36592 sha256=a5c12897e57e89994b4ae8025cb0274f56574a8c370e194ad7fe3708ac5c38f5\n",
            "  Stored in directory: /tmp/pip-ephem-wheel-cache-85hx3zy1/wheels/29/82/ff/04e2be9805a1cb48bec0b85b5a6da6b63f647645750a0e42d4\n",
            "Successfully built segment_anything\n",
            "Installing collected packages: segment_anything\n",
            "Successfully installed segment_anything-1.0\n"
          ]
        }
      ]
    },
    {
      "cell_type": "code",
      "execution_count": 7,
      "metadata": {
        "colab": {
          "base_uri": "https://localhost:8080/"
        },
        "id": "jrsDWyf93VC-",
        "outputId": "9bd6f603-8a37-4f9f-f1ff-b2b27932ddec"
      },
      "outputs": [
        {
          "output_type": "stream",
          "name": "stdout",
          "text": [
            "Saved SAM-refined JSON to: SDXL_1.0_groundingdino_sam_refined.json\n"
          ]
        }
      ],
      "source": [
        "import os\n",
        "import json\n",
        "import numpy as np\n",
        "import cv2\n",
        "from segment_anything import sam_model_registry, SamPredictor\n",
        "\n",
        "# ----------------------\n",
        "# SAM setup\n",
        "# ----------------------\n",
        "sam_checkpoint = \"sam_vit_h.pth\"  # path to SAM weights\n",
        "model_type = \"vit_h\"\n",
        "sam = sam_model_registry[model_type](checkpoint=sam_checkpoint)\n",
        "sam.to(device=\"cuda\")  # or \"cpu\" if no GPU\n",
        "predictor = SamPredictor(sam)\n",
        "\n",
        "# ----------------------\n",
        "# Load Grounding DINO JSON\n",
        "# ----------------------\n",
        "json_path = \"SDXL_1.0_groundingdino_labeled.json\"\n",
        "with open(json_path, \"r\") as f:\n",
        "    data = json.load(f)\n",
        "\n",
        "# ----------------------\n",
        "# Base folder for images\n",
        "# ----------------------\n",
        "base_image_path = \"/content/drive/MyDrive/SDXL_1.0\"  # change to your image folder\n",
        "\n",
        "# ----------------------\n",
        "# Process each image\n",
        "# ----------------------\n",
        "final_results = []\n",
        "\n",
        "for item in data:\n",
        "    image_path = os.path.join(base_image_path, item[\"image\"])\n",
        "    image = cv2.imread(image_path)\n",
        "\n",
        "    if image is None:\n",
        "        print(f\" Image not found: {image_path}\")\n",
        "        continue\n",
        "\n",
        "    predictor.set_image(image)\n",
        "\n",
        "    refined_boxes = []\n",
        "    for det in item[\"boxes\"]:\n",
        "        box = det[\"box\"]  # Grounding DINO box format: [x1, y1, x2, y2] normalized 0-1\n",
        "        label = det.get(\"label\", \"\")\n",
        "        logit = det.get(\"logit\", 0.0)\n",
        "\n",
        "        # Convert normalized coordinates to absolute pixel values\n",
        "        h, w = image.shape[:2]\n",
        "        abs_box = [\n",
        "            int(box[0] * w),\n",
        "            int(box[1] * h),\n",
        "            int(box[2] * w),\n",
        "            int(box[3] * h)\n",
        "        ]\n",
        "        input_box = np.array(abs_box)\n",
        "\n",
        "        # Predict mask with SAM\n",
        "        masks, scores, _ = predictor.predict(\n",
        "            box=input_box[None, :],  # shape (1,4)\n",
        "            multimask_output=False\n",
        "        )\n",
        "\n",
        "        refined_boxes.append({\n",
        "            \"box\": box,  # keep normalized box\n",
        "            \"logit\": logit,\n",
        "            \"label\": label,\n",
        "            \"mask\": masks[0].astype(\"uint8\").tolist()  # convert to list for JSON\n",
        "        })\n",
        "\n",
        "    final_results.append({\n",
        "        \"image\": item[\"image\"],\n",
        "        \"boxes\": refined_boxes\n",
        "    })\n",
        "\n",
        "# ----------------------\n",
        "# Save new JSON with SAM masks\n",
        "# ----------------------\n",
        "out_path = \"SDXL_1.0_groundingdino_sam_refined.json\"\n",
        "with open(out_path, \"w\") as f:\n",
        "    json.dump(final_results, f)\n",
        "\n",
        "print(f\"Saved SAM-refined JSON to: {out_path}\")\n"
      ]
    }
  ]
}