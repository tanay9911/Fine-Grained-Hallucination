{
  "nbformat": 4,
  "nbformat_minor": 0,
  "metadata": {
    "colab": {
      "provenance": []
    },
    "kernelspec": {
      "name": "python3",
      "display_name": "Python 3"
    },
    "language_info": {
      "name": "python"
    }
  },
  "cells": [
    {
      "cell_type": "code",
      "source": [
        "df = pd.read_csv(\"Flux-Dev_yolov8_detections.csv\", sep=\"\\t\")\n",
        "print(df.columns.tolist())\n"
      ],
      "metadata": {
        "id": "oXOkYpwNQbQ4"
      },
      "execution_count": null,
      "outputs": []
    },
    {
      "cell_type": "code",
      "source": [
        "import pandas as pd\n",
        "import json\n",
        "import ast\n",
        "import os\n",
        "import re\n",
        "\n",
        "INPUT_CSV = \"SDXL_1.0_yolov8_detections.csv\"\n",
        "OUTPUT_JSON = \"SDXL_1.0_yolov8_detections.json\"\n",
        "\n",
        "def normalize_image_name(name: str) -> str:\n",
        "    \"\"\"Keep basename and remove trailing ' (number)' before the extension.\"\"\"\n",
        "    base = os.path.basename(str(name).strip())\n",
        "    # remove ' (123)' right before the extension\n",
        "    base = re.sub(r\"\\s*\\(\\d+\\)(?=\\.[^.]+$)\", \"\", base)\n",
        "    return base\n",
        "\n",
        "def parse_bbox(b):\n",
        "    \"\"\"Parse bbox like '[x1, y1, x2, y2]' into a list of floats.\"\"\"\n",
        "    if isinstance(b, (list, tuple)):\n",
        "        return [float(x) for x in b]\n",
        "    s = str(b).strip()\n",
        "    if not s:\n",
        "        return None\n",
        "    try:\n",
        "        val = ast.literal_eval(s)\n",
        "        return [float(x) for x in val]\n",
        "    except Exception:\n",
        "        s = s.strip(\"[]\")\n",
        "        return [float(x) for x in s.split(\",\")]\n",
        "\n",
        "# 1) Read CSV (auto-detect delimiter)\n",
        "df = pd.read_csv(INPUT_CSV, sep=None, engine=\"python\")\n",
        "df.columns = df.columns.str.strip()\n",
        "\n",
        "# 2) Basic sanity check\n",
        "required = {\"image_name\", \"bbox\", \"score\", \"label\"}\n",
        "missing = required - set(df.columns)\n",
        "if missing:\n",
        "    raise ValueError(f\"Missing columns in CSV: {sorted(missing)}\")\n",
        "\n",
        "# 3) Clean/normalize fields\n",
        "df[\"image_key\"] = df[\"image_name\"].apply(normalize_image_name)\n",
        "df[\"bbox\"] = df[\"bbox\"].apply(parse_bbox)\n",
        "df[\"score\"] = pd.to_numeric(df[\"score\"], errors=\"coerce\")\n",
        "df[\"label\"] = pd.to_numeric(df[\"label\"], errors=\"coerce\").astype(\"Int64\")\n",
        "\n",
        "# drop rows with bad bbox/score/label\n",
        "df = df.dropna(subset=[\"bbox\", \"score\", \"label\"])\n",
        "\n",
        "# 4) (Optional) drop exact duplicate rows for the same image+box+score+label\n",
        "df[\"_bbox_tuple\"] = df[\"bbox\"].apply(lambda x: tuple(x))\n",
        "df = df.drop_duplicates(subset=[\"image_key\", \"_bbox_tuple\", \"score\", \"label\"]).drop(columns=\"_bbox_tuple\")\n",
        "\n",
        "# 5) Group and build JSON\n",
        "result = []\n",
        "for image_name, group in df.groupby(\"image_key\", sort=False):\n",
        "    boxes = []\n",
        "    for _, row in group.iterrows():\n",
        "        boxes.append({\n",
        "            \"box\": row[\"bbox\"],\n",
        "            \"score\": float(row[\"score\"]),\n",
        "            \"label\": int(row[\"label\"])\n",
        "        })\n",
        "    result.append({\n",
        "        \"image\": image_name,  # normalized name (e.g., 'foo.jpg' not 'foo (1).jpg')\n",
        "        \"boxes\": boxes\n",
        "    })\n",
        "\n",
        "# 6) Save\n",
        "with open(OUTPUT_JSON, \"w\") as f:\n",
        "    json.dump(result, f, indent=4)\n",
        "\n",
        "print(f\"Wrote {len(result)} images to {OUTPUT_JSON}\")\n"
      ],
      "metadata": {
        "id": "eQkTBxD2QJpo"
      },
      "execution_count": null,
      "outputs": []
    }
  ]
}