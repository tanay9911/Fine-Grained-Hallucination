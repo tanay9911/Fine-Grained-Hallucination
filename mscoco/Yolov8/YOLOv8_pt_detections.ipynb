{
  "nbformat": 4,
  "nbformat_minor": 0,
  "metadata": {
    "colab": {
      "provenance": [],
      "gpuType": "T4"
    },
    "kernelspec": {
      "name": "python3",
      "display_name": "Python 3"
    },
    "language_info": {
      "name": "python"
    },
    "accelerator": "GPU"
  },
  "cells": [
    {
      "cell_type": "code",
      "source": [
        "!pip install ultralytics --quiet"
      ],
      "metadata": {
        "colab": {
          "base_uri": "https://localhost:8080/"
        },
        "id": "Oky6lnInwwYZ",
        "outputId": "bb27ec47-1b0b-4a13-efc3-ca3f14c008d5"
      },
      "execution_count": 1,
      "outputs": [
        {
          "output_type": "stream",
          "name": "stdout",
          "text": [
            "\u001b[?25l   \u001b[90m━━━━━━━━━━━━━━━━━━━━━━━━━━━━━━━━━━━━━━━━\u001b[0m \u001b[32m0.0/1.1 MB\u001b[0m \u001b[31m?\u001b[0m eta \u001b[36m-:--:--\u001b[0m\r\u001b[2K   \u001b[91m━━━━━━━━━━━━━━━━━━━━━━━━━━━━━━━━━━━━━━━\u001b[0m\u001b[91m╸\u001b[0m \u001b[32m1.0/1.1 MB\u001b[0m \u001b[31m45.8 MB/s\u001b[0m eta \u001b[36m0:00:01\u001b[0m\r\u001b[2K   \u001b[90m━━━━━━━━━━━━━━━━━━━━━━━━━━━━━━━━━━━━━━━━\u001b[0m \u001b[32m1.1/1.1 MB\u001b[0m \u001b[31m28.8 MB/s\u001b[0m eta \u001b[36m0:00:00\u001b[0m\n",
            "\u001b[?25h"
          ]
        }
      ]
    },
    {
      "cell_type": "code",
      "execution_count": null,
      "metadata": {
        "id": "xR7TTxFqwFVf"
      },
      "outputs": [],
      "source": [
        "# -------------------------- YOLOv8 Detection --------------------------\n",
        "\n",
        "\n",
        "import os\n",
        "import pandas as pd\n",
        "from ultralytics import YOLO\n",
        "\n",
        "# Base folder with images\n",
        "base_dir = \"/content/drive/MyDrive\"\n",
        "folders = [\"SDXL_1.0\", \"SD2\", \"Flux-Dev\"]\n",
        "\n",
        "# Load YOLOv8 model\n",
        "yolo_model = YOLO(\"yolov8x.pt\")\n",
        "\n",
        "for folder in folders:\n",
        "    folder_path = os.path.join(base_dir, folder)\n",
        "    results_list = []\n",
        "\n",
        "    for img_file in os.listdir(folder_path):\n",
        "        if img_file.lower().endswith((\".png\", \".jpg\", \".jpeg\")):\n",
        "            img_path = os.path.join(folder_path, img_file)\n",
        "\n",
        "            try:\n",
        "                # Run detection\n",
        "                result = yolo_model(img_path)[0]\n",
        "                boxes = result.boxes.xyxy.cpu().numpy()\n",
        "                scores = result.boxes.conf.cpu().numpy()\n",
        "                labels = result.boxes.cls.cpu().numpy()\n",
        "\n",
        "                for box, score, label in zip(boxes, scores, labels):\n",
        "                    results_list.append({\n",
        "                        \"image_name\": img_file,\n",
        "                        \"bbox\": box.tolist(),\n",
        "                        \"score\": float(score),\n",
        "                        \"label\": int(label)\n",
        "                    })\n",
        "            except Exception as e:\n",
        "                print(f\" Error processing {img_file}: {e}\")\n",
        "\n",
        "    # Save CSV per folder\n",
        "    csv_path = os.path.join(base_dir, f\"{folder}_yolov8_detections.csv\")\n",
        "    pd.DataFrame(results_list).to_csv(csv_path, index=False)\n",
        "    print(f\" Saved YOLOv8 detections for {folder} to {csv_path}\")\n"
      ]
    }
  ]
}