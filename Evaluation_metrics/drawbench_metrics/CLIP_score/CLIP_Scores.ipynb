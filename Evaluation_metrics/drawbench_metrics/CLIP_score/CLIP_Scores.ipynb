{
  "nbformat": 4,
  "nbformat_minor": 0,
  "metadata": {
    "colab": {
      "provenance": [],
      "gpuType": "T4"
    },
    "kernelspec": {
      "name": "python3",
      "display_name": "Python 3"
    },
    "language_info": {
      "name": "python"
    },
    "accelerator": "GPU",
    "widgets": {
      "application/vnd.jupyter.widget-state+json": {
        "836f58c593d944d68c9fc9f2f8095936": {
          "model_module": "@jupyter-widgets/controls",
          "model_name": "HBoxModel",
          "model_module_version": "1.5.0",
          "state": {
            "_dom_classes": [],
            "_model_module": "@jupyter-widgets/controls",
            "_model_module_version": "1.5.0",
            "_model_name": "HBoxModel",
            "_view_count": null,
            "_view_module": "@jupyter-widgets/controls",
            "_view_module_version": "1.5.0",
            "_view_name": "HBoxView",
            "box_style": "",
            "children": [
              "IPY_MODEL_176348884e6a4a02b417a96ef91a43d7",
              "IPY_MODEL_a0a90339bdbe47f6be0db0ef786cdf3c",
              "IPY_MODEL_bf39c18694e74d1aa00a0dc64d1b8b01"
            ],
            "layout": "IPY_MODEL_3e2367dbee664891b91108f66896aac1"
          }
        },
        "176348884e6a4a02b417a96ef91a43d7": {
          "model_module": "@jupyter-widgets/controls",
          "model_name": "HTMLModel",
          "model_module_version": "1.5.0",
          "state": {
            "_dom_classes": [],
            "_model_module": "@jupyter-widgets/controls",
            "_model_module_version": "1.5.0",
            "_model_name": "HTMLModel",
            "_view_count": null,
            "_view_module": "@jupyter-widgets/controls",
            "_view_module_version": "1.5.0",
            "_view_name": "HTMLView",
            "description": "",
            "description_tooltip": null,
            "layout": "IPY_MODEL_7bb635880c0344b2a29a07657ee46d9e",
            "placeholder": "​",
            "style": "IPY_MODEL_3be293b646b64187bfc8d737e4231386",
            "value": "Fetching 1 files: 100%"
          }
        },
        "a0a90339bdbe47f6be0db0ef786cdf3c": {
          "model_module": "@jupyter-widgets/controls",
          "model_name": "FloatProgressModel",
          "model_module_version": "1.5.0",
          "state": {
            "_dom_classes": [],
            "_model_module": "@jupyter-widgets/controls",
            "_model_module_version": "1.5.0",
            "_model_name": "FloatProgressModel",
            "_view_count": null,
            "_view_module": "@jupyter-widgets/controls",
            "_view_module_version": "1.5.0",
            "_view_name": "ProgressView",
            "bar_style": "success",
            "description": "",
            "description_tooltip": null,
            "layout": "IPY_MODEL_b19a40bc1a8949d5ad4c7525954979b5",
            "max": 1,
            "min": 0,
            "orientation": "horizontal",
            "style": "IPY_MODEL_6191f15aca5a43c3bb464c7d15bdb91b",
            "value": 1
          }
        },
        "bf39c18694e74d1aa00a0dc64d1b8b01": {
          "model_module": "@jupyter-widgets/controls",
          "model_name": "HTMLModel",
          "model_module_version": "1.5.0",
          "state": {
            "_dom_classes": [],
            "_model_module": "@jupyter-widgets/controls",
            "_model_module_version": "1.5.0",
            "_model_name": "HTMLModel",
            "_view_count": null,
            "_view_module": "@jupyter-widgets/controls",
            "_view_module_version": "1.5.0",
            "_view_name": "HTMLView",
            "description": "",
            "description_tooltip": null,
            "layout": "IPY_MODEL_77419e4167404e99b1c8c6b66cf83876",
            "placeholder": "​",
            "style": "IPY_MODEL_1ac200bc209a48728d7c4e72e9a4b28f",
            "value": " 1/1 [00:00&lt;00:00, 38.27it/s]"
          }
        },
        "3e2367dbee664891b91108f66896aac1": {
          "model_module": "@jupyter-widgets/base",
          "model_name": "LayoutModel",
          "model_module_version": "1.2.0",
          "state": {
            "_model_module": "@jupyter-widgets/base",
            "_model_module_version": "1.2.0",
            "_model_name": "LayoutModel",
            "_view_count": null,
            "_view_module": "@jupyter-widgets/base",
            "_view_module_version": "1.2.0",
            "_view_name": "LayoutView",
            "align_content": null,
            "align_items": null,
            "align_self": null,
            "border": null,
            "bottom": null,
            "display": null,
            "flex": null,
            "flex_flow": null,
            "grid_area": null,
            "grid_auto_columns": null,
            "grid_auto_flow": null,
            "grid_auto_rows": null,
            "grid_column": null,
            "grid_gap": null,
            "grid_row": null,
            "grid_template_areas": null,
            "grid_template_columns": null,
            "grid_template_rows": null,
            "height": null,
            "justify_content": null,
            "justify_items": null,
            "left": null,
            "margin": null,
            "max_height": null,
            "max_width": null,
            "min_height": null,
            "min_width": null,
            "object_fit": null,
            "object_position": null,
            "order": null,
            "overflow": null,
            "overflow_x": null,
            "overflow_y": null,
            "padding": null,
            "right": null,
            "top": null,
            "visibility": null,
            "width": null
          }
        },
        "7bb635880c0344b2a29a07657ee46d9e": {
          "model_module": "@jupyter-widgets/base",
          "model_name": "LayoutModel",
          "model_module_version": "1.2.0",
          "state": {
            "_model_module": "@jupyter-widgets/base",
            "_model_module_version": "1.2.0",
            "_model_name": "LayoutModel",
            "_view_count": null,
            "_view_module": "@jupyter-widgets/base",
            "_view_module_version": "1.2.0",
            "_view_name": "LayoutView",
            "align_content": null,
            "align_items": null,
            "align_self": null,
            "border": null,
            "bottom": null,
            "display": null,
            "flex": null,
            "flex_flow": null,
            "grid_area": null,
            "grid_auto_columns": null,
            "grid_auto_flow": null,
            "grid_auto_rows": null,
            "grid_column": null,
            "grid_gap": null,
            "grid_row": null,
            "grid_template_areas": null,
            "grid_template_columns": null,
            "grid_template_rows": null,
            "height": null,
            "justify_content": null,
            "justify_items": null,
            "left": null,
            "margin": null,
            "max_height": null,
            "max_width": null,
            "min_height": null,
            "min_width": null,
            "object_fit": null,
            "object_position": null,
            "order": null,
            "overflow": null,
            "overflow_x": null,
            "overflow_y": null,
            "padding": null,
            "right": null,
            "top": null,
            "visibility": null,
            "width": null
          }
        },
        "3be293b646b64187bfc8d737e4231386": {
          "model_module": "@jupyter-widgets/controls",
          "model_name": "DescriptionStyleModel",
          "model_module_version": "1.5.0",
          "state": {
            "_model_module": "@jupyter-widgets/controls",
            "_model_module_version": "1.5.0",
            "_model_name": "DescriptionStyleModel",
            "_view_count": null,
            "_view_module": "@jupyter-widgets/base",
            "_view_module_version": "1.2.0",
            "_view_name": "StyleView",
            "description_width": ""
          }
        },
        "b19a40bc1a8949d5ad4c7525954979b5": {
          "model_module": "@jupyter-widgets/base",
          "model_name": "LayoutModel",
          "model_module_version": "1.2.0",
          "state": {
            "_model_module": "@jupyter-widgets/base",
            "_model_module_version": "1.2.0",
            "_model_name": "LayoutModel",
            "_view_count": null,
            "_view_module": "@jupyter-widgets/base",
            "_view_module_version": "1.2.0",
            "_view_name": "LayoutView",
            "align_content": null,
            "align_items": null,
            "align_self": null,
            "border": null,
            "bottom": null,
            "display": null,
            "flex": null,
            "flex_flow": null,
            "grid_area": null,
            "grid_auto_columns": null,
            "grid_auto_flow": null,
            "grid_auto_rows": null,
            "grid_column": null,
            "grid_gap": null,
            "grid_row": null,
            "grid_template_areas": null,
            "grid_template_columns": null,
            "grid_template_rows": null,
            "height": null,
            "justify_content": null,
            "justify_items": null,
            "left": null,
            "margin": null,
            "max_height": null,
            "max_width": null,
            "min_height": null,
            "min_width": null,
            "object_fit": null,
            "object_position": null,
            "order": null,
            "overflow": null,
            "overflow_x": null,
            "overflow_y": null,
            "padding": null,
            "right": null,
            "top": null,
            "visibility": null,
            "width": null
          }
        },
        "6191f15aca5a43c3bb464c7d15bdb91b": {
          "model_module": "@jupyter-widgets/controls",
          "model_name": "ProgressStyleModel",
          "model_module_version": "1.5.0",
          "state": {
            "_model_module": "@jupyter-widgets/controls",
            "_model_module_version": "1.5.0",
            "_model_name": "ProgressStyleModel",
            "_view_count": null,
            "_view_module": "@jupyter-widgets/base",
            "_view_module_version": "1.2.0",
            "_view_name": "StyleView",
            "bar_color": null,
            "description_width": ""
          }
        },
        "77419e4167404e99b1c8c6b66cf83876": {
          "model_module": "@jupyter-widgets/base",
          "model_name": "LayoutModel",
          "model_module_version": "1.2.0",
          "state": {
            "_model_module": "@jupyter-widgets/base",
            "_model_module_version": "1.2.0",
            "_model_name": "LayoutModel",
            "_view_count": null,
            "_view_module": "@jupyter-widgets/base",
            "_view_module_version": "1.2.0",
            "_view_name": "LayoutView",
            "align_content": null,
            "align_items": null,
            "align_self": null,
            "border": null,
            "bottom": null,
            "display": null,
            "flex": null,
            "flex_flow": null,
            "grid_area": null,
            "grid_auto_columns": null,
            "grid_auto_flow": null,
            "grid_auto_rows": null,
            "grid_column": null,
            "grid_gap": null,
            "grid_row": null,
            "grid_template_areas": null,
            "grid_template_columns": null,
            "grid_template_rows": null,
            "height": null,
            "justify_content": null,
            "justify_items": null,
            "left": null,
            "margin": null,
            "max_height": null,
            "max_width": null,
            "min_height": null,
            "min_width": null,
            "object_fit": null,
            "object_position": null,
            "order": null,
            "overflow": null,
            "overflow_x": null,
            "overflow_y": null,
            "padding": null,
            "right": null,
            "top": null,
            "visibility": null,
            "width": null
          }
        },
        "1ac200bc209a48728d7c4e72e9a4b28f": {
          "model_module": "@jupyter-widgets/controls",
          "model_name": "DescriptionStyleModel",
          "model_module_version": "1.5.0",
          "state": {
            "_model_module": "@jupyter-widgets/controls",
            "_model_module_version": "1.5.0",
            "_model_name": "DescriptionStyleModel",
            "_view_count": null,
            "_view_module": "@jupyter-widgets/base",
            "_view_module_version": "1.2.0",
            "_view_name": "StyleView",
            "description_width": ""
          }
        }
      }
    }
  },
  "cells": [
    {
      "cell_type": "code",
      "execution_count": 5,
      "metadata": {
        "colab": {
          "base_uri": "https://localhost:8080/",
          "height": 247,
          "referenced_widgets": [
            "836f58c593d944d68c9fc9f2f8095936",
            "176348884e6a4a02b417a96ef91a43d7",
            "a0a90339bdbe47f6be0db0ef786cdf3c",
            "bf39c18694e74d1aa00a0dc64d1b8b01",
            "3e2367dbee664891b91108f66896aac1",
            "7bb635880c0344b2a29a07657ee46d9e",
            "3be293b646b64187bfc8d737e4231386",
            "b19a40bc1a8949d5ad4c7525954979b5",
            "6191f15aca5a43c3bb464c7d15bdb91b",
            "77419e4167404e99b1c8c6b66cf83876",
            "1ac200bc209a48728d7c4e72e9a4b28f"
          ]
        },
        "id": "oWKkTo8Jf2fC",
        "outputId": "1564fe97-2a2e-4d79-87e3-c3a1606b4d67"
      },
      "outputs": [
        {
          "output_type": "display_data",
          "data": {
            "text/plain": [
              "Fetching 1 files:   0%|          | 0/1 [00:00<?, ?it/s]"
            ],
            "application/vnd.jupyter.widget-view+json": {
              "version_major": 2,
              "version_minor": 0,
              "model_id": "836f58c593d944d68c9fc9f2f8095936"
            }
          },
          "metadata": {}
        },
        {
          "output_type": "stream",
          "name": "stdout",
          "text": [
            "Calculating CLIP scores for Flux-Dev...\n"
          ]
        },
        {
          "output_type": "stream",
          "name": "stderr",
          "text": [
            "100%|██████████| 200/200 [01:07<00:00,  2.95it/s]\n"
          ]
        },
        {
          "output_type": "stream",
          "name": "stdout",
          "text": [
            "Average CLIP score for Flux-Dev: 0.3147\n",
            "Calculating CLIP scores for SDXL...\n"
          ]
        },
        {
          "output_type": "stream",
          "name": "stderr",
          "text": [
            "100%|██████████| 200/200 [02:24<00:00,  1.38it/s]\n"
          ]
        },
        {
          "output_type": "stream",
          "name": "stdout",
          "text": [
            "Average CLIP score for SDXL: 0.3206\n",
            "Calculating CLIP scores for SD2...\n"
          ]
        },
        {
          "output_type": "stream",
          "name": "stderr",
          "text": [
            "100%|██████████| 200/200 [02:08<00:00,  1.56it/s]"
          ]
        },
        {
          "output_type": "stream",
          "name": "stdout",
          "text": [
            "Average CLIP score for SD2: 0.3219\n",
            "Average CLIP scores saved to: /content/drive/MyDrive/csvs/clip_average_scores.json\n",
            "{'Flux-Dev': 0.314676451086998, 'SDXL': 0.32061889708042146, 'SD2': 0.3218668834865093}\n"
          ]
        },
        {
          "output_type": "stream",
          "name": "stderr",
          "text": [
            "\n"
          ]
        }
      ],
      "source": [
        "import os\n",
        "import json\n",
        "import pandas as pd\n",
        "from tqdm import tqdm\n",
        "import torch\n",
        "from PIL import Image\n",
        "from transformers import CLIPProcessor, CLIPModel\n",
        "\n",
        "# ===== Paths =====\n",
        "root_images = \"/content/drive/MyDrive/eval_images\"\n",
        "baseline_file = \"/content/drive/MyDrive/csvs/DrawBenchPrompts.csv\"\n",
        "\n",
        "model_folders = {\n",
        "    \"Flux-Dev\": \"Flux-Dev_drawbench_images\",\n",
        "    \"SDXL\": \"SDXL_drawbench_images\",\n",
        "    \"SD2\": \"SD2_drawbench_images\"\n",
        "}\n",
        "\n",
        "output_json = \"/content/drive/MyDrive/csvs/clip_average_scores.json\"\n",
        "\n",
        "# ===== Load baseline prompts =====\n",
        "baseline_df = pd.read_csv(baseline_file)\n",
        "baseline_dict = dict(zip(baseline_df[\"image_name\"], baseline_df[\"Prompts\"]))\n",
        "\n",
        "# ===== Load CLIP model =====\n",
        "device = \"cuda\" if torch.cuda.is_available() else \"cpu\"\n",
        "model = CLIPModel.from_pretrained(\"openai/clip-vit-base-patch32\").to(device)\n",
        "processor = CLIPProcessor.from_pretrained(\"openai/clip-vit-base-patch32\")\n",
        "\n",
        "# ===== Compute CLIP score for all models =====\n",
        "average_scores = {}\n",
        "\n",
        "for model_name, folder_name in model_folders.items():\n",
        "    print(f\"Calculating CLIP scores for {model_name}...\")\n",
        "    folder_path = os.path.join(root_images, folder_name)\n",
        "    scores = []\n",
        "\n",
        "    for image_name, prompt in tqdm(baseline_dict.items()):\n",
        "        # Construct image path\n",
        "        possible_ext = [\"png\", \"jpg\", \"jpeg\"]\n",
        "        image_path = None\n",
        "        for ext in possible_ext:\n",
        "            path = os.path.join(folder_path, f\"{image_name}.{ext}\")\n",
        "            if os.path.exists(path):\n",
        "                image_path = path\n",
        "                break\n",
        "        if image_path is None:\n",
        "            print(f\"Warning: Image {image_name} not found in {folder_path}\")\n",
        "            continue\n",
        "\n",
        "        # Load image\n",
        "        image = Image.open(image_path).convert(\"RGB\")\n",
        "\n",
        "        # Encode text and image with truncation\n",
        "        inputs = processor(\n",
        "            text=[prompt],\n",
        "            images=image,\n",
        "            return_tensors=\"pt\",\n",
        "            truncation=True\n",
        "        ).to(device)\n",
        "\n",
        "        with torch.no_grad():\n",
        "            image_embeds = model.get_image_features(pixel_values=inputs[\"pixel_values\"])\n",
        "            text_embeds = model.get_text_features(input_ids=inputs[\"input_ids\"], attention_mask=inputs[\"attention_mask\"])\n",
        "\n",
        "        # Normalize embeddings\n",
        "        image_embeds /= image_embeds.norm(p=2, dim=-1, keepdim=True)\n",
        "        text_embeds /= text_embeds.norm(p=2, dim=-1, keepdim=True)\n",
        "\n",
        "        # Cosine similarity\n",
        "        sim = (image_embeds @ text_embeds.T).item()\n",
        "        scores.append(sim)\n",
        "\n",
        "    # Average similarity\n",
        "    avg_score = sum(scores) / len(scores) if scores else 0\n",
        "    average_scores[model_name] = avg_score\n",
        "    print(f\"Average CLIP score for {model_name}: {avg_score:.4f}\")\n",
        "\n",
        "# ===== Save to JSON =====\n",
        "with open(output_json, \"w\") as f:\n",
        "    json.dump(average_scores, f, indent=4)\n",
        "\n",
        "print(\"Average CLIP scores saved to:\", output_json)\n",
        "print(average_scores)\n"
      ]
    }
  ]
}