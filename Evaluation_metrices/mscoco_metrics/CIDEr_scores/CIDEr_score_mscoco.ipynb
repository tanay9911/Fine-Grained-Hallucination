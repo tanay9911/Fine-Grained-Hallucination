{
  "nbformat": 4,
  "nbformat_minor": 0,
  "metadata": {
    "colab": {
      "provenance": [],
      "gpuType": "T4"
    },
    "kernelspec": {
      "name": "python3",
      "display_name": "Python 3"
    },
    "language_info": {
      "name": "python"
    },
    "accelerator": "GPU"
  },
  "cells": [
    {
      "cell_type": "code",
      "source": [
        "!pip install git+https://github.com/salaniz/pycocoevalcap.git"
      ],
      "metadata": {
        "id": "j7cweEoGGU6H"
      },
      "execution_count": null,
      "outputs": []
    },
    {
      "cell_type": "code",
      "execution_count": 6,
      "metadata": {
        "colab": {
          "base_uri": "https://localhost:8080/"
        },
        "id": "c0VqonIYGPVZ",
        "outputId": "2f1c29d6-1a1e-44bd-bdbc-7dba56331c77"
      },
      "outputs": [
        {
          "output_type": "stream",
          "name": "stdout",
          "text": [
            "Saved CIDEr dictionaries for Flux-Dev:\n",
            "  refs -> /content/drive/MyDrive/phi3mini/cider_dicts/Flux-Dev_refs.json\n",
            "  cands -> /content/drive/MyDrive/phi3mini/cider_dicts/Flux-Dev_cands.json\n",
            "Saved CIDEr dictionaries for SDXL:\n",
            "  refs -> /content/drive/MyDrive/phi3mini/cider_dicts/SDXL_refs.json\n",
            "  cands -> /content/drive/MyDrive/phi3mini/cider_dicts/SDXL_cands.json\n",
            "Saved CIDEr dictionaries for SD2:\n",
            "  refs -> /content/drive/MyDrive/phi3mini/cider_dicts/SD2_refs.json\n",
            "  cands -> /content/drive/MyDrive/phi3mini/cider_dicts/SD2_cands.json\n",
            "CIDEr score for Flux-Dev: 0.0000\n",
            "CIDEr score for SDXL: 0.0000\n",
            "CIDEr score for SD2: 0.0026\n",
            "Average CIDEr scores saved to: /content/drive/MyDrive/phi3mini/cider_average_scores.json\n",
            "{'Flux-Dev': np.float64(4.846772725301889e-05), 'SDXL': np.float64(8.937773580845634e-06), 'SD2': np.float64(0.0025563240724885993)}\n"
          ]
        }
      ],
      "source": [
        "\n",
        "\n",
        "import os\n",
        "import pandas as pd\n",
        "import json\n",
        "import string\n",
        "from pycocoevalcap.cider.cider import Cider\n",
        "\n",
        "# ===== Paths =====\n",
        "folder_path = \"/content/drive/MyDrive/phi3mini\"\n",
        "output_json_folder = os.path.join(folder_path, \"cider_dicts\")\n",
        "os.makedirs(output_json_folder, exist_ok=True)\n",
        "\n",
        "baseline_file = \"mscoco_captions.csv\"\n",
        "model_files = {\n",
        "    \"Flux-Dev\": \"fluxdev_meta.csv\",\n",
        "    \"SDXL\": \"sdxl_meta.csv\",\n",
        "    \"SD2\": \"sd2_meta.csv\"\n",
        "}\n",
        "\n",
        "# ===== Text cleaning function =====\n",
        "def clean_text(text):\n",
        "    if pd.isna(text) or str(text).strip() == \"\":\n",
        "        return None\n",
        "    text = str(text).lower().strip()\n",
        "    text = text.translate(str.maketrans('', '', string.punctuation))\n",
        "    return text\n",
        "\n",
        "# ===== Load baseline =====\n",
        "baseline_df = pd.read_csv(os.path.join(folder_path, baseline_file))\n",
        "baseline_df[\"mscoco_caption\"] = baseline_df[\"mscoco_caption\"].apply(clean_text)\n",
        "\n",
        "# ===== Convert CSV to CIDEr dictionaries =====\n",
        "def create_cider_dicts(model_file):\n",
        "    df = pd.read_csv(os.path.join(folder_path, model_file))\n",
        "    df[\"Meta Caption\"] = df[\"Meta Caption\"].apply(clean_text)\n",
        "\n",
        "    # Merge baseline and model by image_name\n",
        "    merged = pd.merge(\n",
        "        baseline_df, df, on=\"image_name\", how=\"inner\"\n",
        "    )\n",
        "\n",
        "    refs = {}\n",
        "    cands = {}\n",
        "\n",
        "    for _, row in merged.iterrows():\n",
        "        image_id = str(row[\"image_name\"])\n",
        "        ref_text = row[\"mscoco_caption\"]\n",
        "        cand_text = row[\"Meta Caption\"]\n",
        "        if ref_text and cand_text:\n",
        "            refs[image_id] = [ref_text]\n",
        "            cands[image_id] = [cand_text]\n",
        "\n",
        "    return refs, cands\n",
        "\n",
        "# ===== Process all models and save JSONs =====\n",
        "for model_name, model_file in model_files.items():\n",
        "    refs, cands = create_cider_dicts(model_file)\n",
        "\n",
        "    refs_json_path = os.path.join(output_json_folder, f\"{model_name}_refs.json\")\n",
        "    cands_json_path = os.path.join(output_json_folder, f\"{model_name}_cands.json\")\n",
        "\n",
        "    with open(refs_json_path, \"w\") as f:\n",
        "        json.dump(refs, f, indent=4)\n",
        "    with open(cands_json_path, \"w\") as f:\n",
        "        json.dump(cands, f, indent=4)\n",
        "\n",
        "    print(f\"Saved CIDEr dictionaries for {model_name}:\")\n",
        "    print(f\"  refs -> {refs_json_path}\")\n",
        "    print(f\"  cands -> {cands_json_path}\")\n",
        "\n",
        "# ===== Compute CIDEr scores =====\n",
        "average_scores = {}\n",
        "for model_name in model_files.keys():\n",
        "    refs_path = os.path.join(output_json_folder, f\"{model_name}_refs.json\")\n",
        "    cands_path = os.path.join(output_json_folder, f\"{model_name}_cands.json\")\n",
        "\n",
        "    with open(refs_path) as f:\n",
        "        refs = json.load(f)\n",
        "    with open(cands_path) as f:\n",
        "        cands = json.load(f)\n",
        "\n",
        "    try:\n",
        "        scorer = Cider()\n",
        "        score, _ = scorer.compute_score(refs, cands)\n",
        "        average_scores[model_name] = score\n",
        "        print(f\"CIDEr score for {model_name}: {score:.4f}\")\n",
        "    except Exception as e:\n",
        "        print(f\"Error computing CIDEr for {model_name}: {e}\")\n",
        "        average_scores[model_name] = None\n",
        "\n",
        "# ===== Save average scores =====\n",
        "output_json = os.path.join(folder_path, \"cider_average_scores.json\")\n",
        "with open(output_json, \"w\") as f:\n",
        "    json.dump(average_scores, f, indent=4)\n",
        "\n",
        "print(\"Average CIDEr scores saved to:\", output_json)\n",
        "print(average_scores)\n"
      ]
    }
  ]
}