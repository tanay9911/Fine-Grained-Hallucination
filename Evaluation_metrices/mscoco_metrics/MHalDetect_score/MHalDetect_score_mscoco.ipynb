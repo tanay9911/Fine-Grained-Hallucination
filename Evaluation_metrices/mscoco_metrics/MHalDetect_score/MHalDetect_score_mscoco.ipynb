{
  "nbformat": 4,
  "nbformat_minor": 0,
  "metadata": {
    "colab": {
      "provenance": []
    },
    "kernelspec": {
      "name": "python3",
      "display_name": "Python 3"
    },
    "language_info": {
      "name": "python"
    }
  },
  "cells": [
    {
      "cell_type": "code",
      "execution_count": 1,
      "metadata": {
        "colab": {
          "base_uri": "https://localhost:8080/"
        },
        "id": "UuKD_9GTFB2b",
        "outputId": "60756416-c678-4d98-d2f6-e941be502bc9"
      },
      "outputs": [
        {
          "output_type": "stream",
          "name": "stderr",
          "text": [
            "Computing MHalDetect for Flux-Dev: 100%|██████████| 200/200 [00:00<00:00, 8132.59it/s]\n"
          ]
        },
        {
          "output_type": "stream",
          "name": "stdout",
          "text": [
            "Flux-Dev → Average MHalDetect: 0.9572\n"
          ]
        },
        {
          "output_type": "stream",
          "name": "stderr",
          "text": [
            "Computing MHalDetect for sd_2: 100%|██████████| 195/195 [00:00<00:00, 14802.35it/s]\n"
          ]
        },
        {
          "output_type": "stream",
          "name": "stdout",
          "text": [
            "sd_2 → Average MHalDetect: 0.9659\n"
          ]
        },
        {
          "output_type": "stream",
          "name": "stderr",
          "text": [
            "Computing MHalDetect for sdxl: 100%|██████████| 200/200 [00:00<00:00, 16555.05it/s]"
          ]
        },
        {
          "output_type": "stream",
          "name": "stdout",
          "text": [
            "sdxl → Average MHalDetect: 0.9856\n",
            "MHalDetect scores saved to /content/drive/MyDrive/phi3mini/MHalDetect_scores.json\n"
          ]
        },
        {
          "output_type": "stream",
          "name": "stderr",
          "text": [
            "\n"
          ]
        }
      ],
      "source": [
        "import pandas as pd\n",
        "from tqdm import tqdm\n",
        "import json\n",
        "\n",
        "# ===== File paths =====\n",
        "folder_path = \"/content/drive/MyDrive/phi3mini\"\n",
        "files = {\n",
        "    \"Flux-Dev\": \"fluxdev_meta_entities.csv\",\n",
        "    \"sd_2\": \"sd2_meta_entities.csv\",\n",
        "    \"sdxl\": \"sdxl_meta_entities.csv\"\n",
        "}\n",
        "baseline_file = \"mscoco_captions_entities.csv\"\n",
        "\n",
        "# ===== Load baseline =====\n",
        "baseline_df = pd.read_csv(f\"{folder_path}/{baseline_file}\")\n",
        "baseline_df[\"mscoco_caption_entities\"] = baseline_df[\"mscoco_caption_entities\"].apply(\n",
        "    lambda x: eval(x) if pd.notna(x) else []\n",
        ")\n",
        "\n",
        "# ===== Function to compute MHalDetect for one model =====\n",
        "def compute_mhal(model_file, model_name):\n",
        "    df = pd.read_csv(f\"{folder_path}/{model_file}\")\n",
        "    df[\"Meta Caption_entities\"] = df[\"Meta Caption_entities\"].apply(\n",
        "        lambda x: eval(x) if pd.notna(x) else []\n",
        "    )\n",
        "\n",
        "    # Merge baseline and model by image_name\n",
        "    merged = pd.merge(\n",
        "        baseline_df, df, on=\"image_name\", how=\"inner\", suffixes=(\"_baseline\", \"_model\")\n",
        "    )\n",
        "\n",
        "    mhal_scores = []\n",
        "\n",
        "    for _, row in tqdm(merged.iterrows(), total=len(merged), desc=f\"Computing MHalDetect for {model_name}\"):\n",
        "        baseline_entities = set(row[\"mscoco_caption_entities\"])\n",
        "        model_entities = set(row[\"Meta Caption_entities\"])\n",
        "\n",
        "        if len(model_entities) == 0:\n",
        "            score = 0.0\n",
        "        else:\n",
        "            # Hallucinated entities = model entities NOT in baseline\n",
        "            hallucinated = model_entities - baseline_entities\n",
        "            score = len(hallucinated) / len(model_entities)\n",
        "\n",
        "        mhal_scores.append(score)\n",
        "\n",
        "    avg_mhal = sum(mhal_scores) / len(mhal_scores) if mhal_scores else 0.0\n",
        "    print(f\"{model_name} → Average MHalDetect: {avg_mhal:.4f}\")\n",
        "    return avg_mhal\n",
        "\n",
        "# ===== Compute for all models =====\n",
        "results = {}\n",
        "for model_name, model_file in files.items():\n",
        "    results[model_name] = compute_mhal(model_file, model_name)\n",
        "\n",
        "# ===== Save to JSON =====\n",
        "out_path = f\"{folder_path}/MHalDetect_scores.json\"\n",
        "with open(out_path, \"w\") as f:\n",
        "    json.dump(results, f, indent=4)\n",
        "\n",
        "print(f\"MHalDetect scores saved to {out_path}\")\n"
      ]
    }
  ]
}