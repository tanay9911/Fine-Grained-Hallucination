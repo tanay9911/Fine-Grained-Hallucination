{
  "nbformat": 4,
  "nbformat_minor": 0,
  "metadata": {
    "colab": {
      "provenance": []
    },
    "kernelspec": {
      "name": "python3",
      "display_name": "Python 3"
    },
    "language_info": {
      "name": "python"
    }
  },
  "cells": [
    {
      "cell_type": "code",
      "execution_count": 4,
      "metadata": {
        "colab": {
          "base_uri": "https://localhost:8080/"
        },
        "id": "Hk96UHuunP_R",
        "outputId": "4399d59d-faf4-4346-885e-03a3ff01726f"
      },
      "outputs": [
        {
          "output_type": "stream",
          "name": "stderr",
          "text": [
            "Computing ALOHA for Flux-Dev: 100%|██████████| 200/200 [00:00<00:00, 9709.37it/s]\n"
          ]
        },
        {
          "output_type": "stream",
          "name": "stdout",
          "text": [
            "Flux-Dev → Average ALOHA: 0.1693\n"
          ]
        },
        {
          "output_type": "stream",
          "name": "stderr",
          "text": [
            "Computing ALOHA for sd_2: 100%|██████████| 195/195 [00:00<00:00, 9472.12it/s]\n"
          ]
        },
        {
          "output_type": "stream",
          "name": "stdout",
          "text": [
            "sd_2 → Average ALOHA: 0.1351\n"
          ]
        },
        {
          "output_type": "stream",
          "name": "stderr",
          "text": [
            "Computing ALOHA for sdxl: 100%|██████████| 200/200 [00:00<00:00, 4324.85it/s]"
          ]
        },
        {
          "output_type": "stream",
          "name": "stdout",
          "text": [
            "sdxl → Average ALOHA: 0.0513\n",
            "ALOHA scores saved to /content/drive/MyDrive/phi3mini/aloha_scores.json\n"
          ]
        },
        {
          "output_type": "stream",
          "name": "stderr",
          "text": [
            "\n"
          ]
        }
      ],
      "source": [
        "import pandas as pd\n",
        "from tqdm import tqdm\n",
        "import json\n",
        "\n",
        "# ===== File paths =====\n",
        "folder_path = \"/content/drive/MyDrive/phi3mini\"\n",
        "files = {\n",
        "    \"Flux-Dev\": \"fluxdev_meta_entities.csv\",\n",
        "    \"sd_2\": \"sd2_meta_entities.csv\",\n",
        "    \"sdxl\": \"sdxl_meta_entities.csv\"\n",
        "}\n",
        "baseline_file = \"mscoco_captions_entities.csv\"\n",
        "\n",
        "# ===== Load baseline =====\n",
        "baseline_df = pd.read_csv(f\"{folder_path}/{baseline_file}\")\n",
        "baseline_df[\"mscoco_caption_entities\"] = baseline_df[\"mscoco_caption_entities\"].apply(\n",
        "    lambda x: eval(x) if pd.notna(x) else []\n",
        ")\n",
        "\n",
        "# ===== Function to compute ALOHA for one model =====\n",
        "def compute_aloha(model_file, model_name):\n",
        "    df = pd.read_csv(f\"{folder_path}/{model_file}\")\n",
        "    df[\"Meta Caption_entities\"] = df[\"Meta Caption_entities\"].apply(\n",
        "        lambda x: eval(x) if pd.notna(x) else []\n",
        "    )\n",
        "\n",
        "    # Merge baseline and model by image_name\n",
        "    merged = pd.merge(\n",
        "        baseline_df, df, on=\"image_name\", how=\"inner\", suffixes=(\"_baseline\", \"_model\")\n",
        "    )\n",
        "\n",
        "    aloha_scores = []\n",
        "\n",
        "    for _, row in tqdm(merged.iterrows(), total=len(merged), desc=f\"Computing ALOHA for {model_name}\"):\n",
        "        baseline_entities = set(row[\"mscoco_caption_entities\"])\n",
        "        model_entities = set(row[\"Meta Caption_entities\"])\n",
        "\n",
        "        if len(baseline_entities) == 0:\n",
        "            score = 1.0 if len(model_entities) == 0 else 0.0\n",
        "        else:\n",
        "            score = len(baseline_entities & model_entities) / len(baseline_entities)\n",
        "\n",
        "        aloha_scores.append(score)\n",
        "\n",
        "    avg_aloha = sum(aloha_scores) / len(aloha_scores) if aloha_scores else 0.0\n",
        "    print(f\"{model_name} → Average ALOHA: {avg_aloha:.4f}\")\n",
        "    return avg_aloha\n",
        "\n",
        "# ===== Compute for all models =====\n",
        "results = {}\n",
        "for model_name, model_file in files.items():\n",
        "    results[model_name] = compute_aloha(model_file, model_name)\n",
        "\n",
        "# ===== Save to JSON =====\n",
        "out_path = f\"{folder_path}/aloha_scores.json\"\n",
        "with open(out_path, \"w\") as f:\n",
        "    json.dump(results, f, indent=4)\n",
        "\n",
        "print(f\"ALOHA scores saved to {out_path}\")\n"
      ]
    }
  ]
}